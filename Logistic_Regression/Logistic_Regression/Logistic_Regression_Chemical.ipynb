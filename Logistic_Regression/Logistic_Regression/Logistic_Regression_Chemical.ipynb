{
 "cells": [
  {
   "cell_type": "code",
   "execution_count": 1,
   "metadata": {},
   "outputs": [],
   "source": [
    "import numpy as np\n",
    "import matplotlib.pyplot as py\n",
    "import pandas as pd\n"
   ]
  },
  {
   "cell_type": "code",
   "execution_count": 6,
   "metadata": {},
   "outputs": [],
   "source": [
    "#Loading csv files as Dataframes\n",
    "X=pd.read_csv(\"datasets/Chemical/Logistic_X_train.csv\")\n",
    "Y=pd.read_csv(\"datasets/Chemical/Logistic_Y_train.csv\")\n",
    "X_test=pd.read_csv(\"datasets/Chemical/Logistic_X_test.csv\")"
   ]
  },
  {
   "cell_type": "code",
   "execution_count": 7,
   "metadata": {},
   "outputs": [],
   "source": [
    "#Converting data frames into numpy arrays\n",
    "X=X.values\n",
    "Y=Y.values\n",
    "X_test=X_test.values"
   ]
  },
  {
   "cell_type": "code",
   "execution_count": 12,
   "metadata": {},
   "outputs": [],
   "source": [
    "#Normalising the data\n",
    "X=(X-np.mean(X,axis=0))/np.std(X,axis=0)"
   ]
  },
  {
   "cell_type": "code",
   "execution_count": 43,
   "metadata": {},
   "outputs": [],
   "source": [
    "#function to calculate hypothesis\n",
    "def hypothesis(X,theta,b):\n",
    "    z=np.dot(X,theta)+b\n",
    "    return 1/(1+np.exp(-1*z))\n",
    "\n",
    "#function to calculate final value of theta and bias\n",
    "def grad(X,Y,learning_rate=0.01,epochs=100):\n",
    "    m=X.shape[1]\n",
    "    theta=np.random.rand(m,1)\n",
    "    b=0\n",
    "    for i in range(epochs):\n",
    "        Y_=hypothesis(X,theta,b)\n",
    "        theta=theta+learning_rate*np.dot(X.T,(Y-Y_))\n",
    "        theta/=m\n",
    "        b=b+np.sum(learning_rate*(Y-Y_),axis=0)\n",
    "        b/=m\n",
    "    return theta,b\n",
    "\n",
    "#function to classify the values\n",
    "def pred(X,theta,b):\n",
    "    Y_=hypothesis(X,theta,b)\n",
    "    for i in range(len(Y_)):\n",
    "        if Y_[i]<0.5:\n",
    "            Y_[i]=0\n",
    "        else:\n",
    "            Y_[i]=1\n",
    "    return Y_\n",
    "        \n",
    "    "
   ]
  },
  {
   "cell_type": "code",
   "execution_count": 44,
   "metadata": {},
   "outputs": [],
   "source": [
    "#Calling function\n",
    "theta,b=grad(X,Y)\n",
    "Y_=pred(X,theta,b)\n",
    "Y_test=pred(X_test,theta,b)"
   ]
  },
  {
   "cell_type": "code",
   "execution_count": 45,
   "metadata": {},
   "outputs": [
    {
     "name": "stdout",
     "output_type": "stream",
     "text": [
      "0.8933333333333333\n"
     ]
    }
   ],
   "source": [
    "#Checking the accuracy\n",
    "com=0\n",
    "for i in range(len(Y_)):\n",
    "    if Y_[i]==Y[i]:\n",
    "        com+=1\n",
    "print(com/len(Y_))"
   ]
  },
  {
   "cell_type": "code",
   "execution_count": 46,
   "metadata": {},
   "outputs": [],
   "source": [
    "#Writing the result to file\n",
    "s=\"\"\n",
    "for i in Y_test:\n",
    "    s+=(str(int(i)))\n",
    "    s+=',\\n'\n",
    " \n",
    "with open(\"Chemical_logistic.csv\",\"w\") as f:\n",
    "    f.write(\"label,\\n\")\n",
    "    f.write(s)"
   ]
  },
  {
   "cell_type": "code",
   "execution_count": null,
   "metadata": {},
   "outputs": [],
   "source": []
  }
 ],
 "metadata": {
  "kernelspec": {
   "display_name": "Python 3",
   "language": "python",
   "name": "python3"
  },
  "language_info": {
   "codemirror_mode": {
    "name": "ipython",
    "version": 3
   },
   "file_extension": ".py",
   "mimetype": "text/x-python",
   "name": "python",
   "nbconvert_exporter": "python",
   "pygments_lexer": "ipython3",
   "version": "3.8.3"
  }
 },
 "nbformat": 4,
 "nbformat_minor": 4
}
